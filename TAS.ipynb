{
  "cells": [
    {
      "cell_type": "markdown",
      "metadata": {},
      "source": [
        "In 1998 Doug Gray wrote [a short paper](https://www.kilohotel.com/rv8/rvlinks/doug_gray/TAS_FNL4.pdf) describing a fantastic method for finding true airpseed vectors (airspeed and heading) from GPS vectors (groundspeed and ground track). Three GPS ground speed/track pairs in any 3 directions is about as easy as can be for a test flight.\n",
        "\n",
        "Although his spreadsheet formulas work, I wanted to understand it more deeply and write some code. I re-learned some trig and geometry so I could re-derive what is going on here.\n",
        "\n",
        "## Reference diagram\n",
        "![Diagram](Diagram.png)"
      ]
    },
    {
      "cell_type": "code",
      "execution_count": null,
      "metadata": {
        "trusted": true
      },
      "outputs": [],
      "source": [
        "# preamble\n",
        "!pip3 install numpy\n",
        "import numpy as np\n",
        "import numpy.linalg as la\n",
        "\n",
        "def cartesian(rho, theta):\n",
        "    x = rho * np.cos(theta)\n",
        "    y = rho * np.sin(theta)\n",
        "    return x, y\n",
        "\n",
        "def polar(v):\n",
        "    x, y = v\n",
        "    rho = np.hypot(x, y)\n",
        "    theta = np.arctan2(y, x)\n",
        "    return rho, theta\n",
        "    \n",
        "def fromCompass(speed, track):\n",
        "    theta = np.radians(90 - track)\n",
        "    return cartesian(speed, theta)\n",
        "\n",
        "def toCompass(v):\n",
        "    speed, theta = polar(v)\n",
        "    track = (90 - np.degrees(theta)) % 360\n",
        "    return speed, track\n",
        "\n",
        "def mag(v):\n",
        "    return np.sqrt(v.dot(v))\n",
        "    \n",
        "def angleBetween(u, v):\n",
        "    return np.arccos(np.dot(u, v) / (mag(u) * mag(v)))\n",
        "\n",
        "def angle(v):\n",
        "    x, y = v\n",
        "    return np.arctan2(y, x)"
      ]
    },
    {
      "cell_type": "code",
      "execution_count": 2,
      "metadata": {
        "trusted": true
      },
      "outputs": [],
      "source": [
        "# flight test data (airspeed, compass heading in degrees)\n",
        "# Note: these should be in clockwise order\n",
        "data = [\n",
        "        (140, 192),\n",
        "        (112, 283),\n",
        "        (120, 20)\n",
        "]"
      ]
    },
    {
      "cell_type": "code",
      "execution_count": 3,
      "metadata": {
        "trusted": true
      },
      "outputs": [],
      "source": [
        "def calculate(data):\n",
        "        gs1, gs2, gs3 = (fromCompass(speed, track) for speed, track in data)\n",
        "        # Points a, b, c are the tails of gs1, gs2, gs3 respectively\n",
        "        ab = np.subtract(gs1, gs2)\n",
        "        ac = np.subtract(gs1, gs3)\n",
        "        bc = np.subtract(gs2, gs3)\n",
        "        abc = angleBetween(ab, bc)\n",
        "        # AOC = 2*ABC by the inscribed angle theorem.\n",
        "        # The angle between TAS_C and P is AOC/2=ABC\n",
        "        # because triangle AOC is isoceles and thus P bisects AOC.\n",
        "        tas = (mag(ac) / 2) / np.sin(abc)\n",
        "        p = cartesian(tas * np.cos(abc), angle(ac) + np.radians(90))\n",
        "        tas1 = np.subtract(np.divide(ac, 2), p)\n",
        "        w = np.subtract(gs1, tas1)\n",
        "        tas2 = np.subtract(gs2, w)\n",
        "        tas3 = np.subtract(gs3, w)\n",
        "\n",
        "        return tas, w, tas1, tas2, tas3"
      ]
    },
    {
      "cell_type": "markdown",
      "metadata": {},
      "source": [
        "Doug's results:\n",
        "- TAS: 130\n",
        "- Headings: 200°, 287.8°, 11.7°\n",
        "- Wind: (20.6, 314.8°)\n"
      ]
    },
    {
      "cell_type": "code",
      "execution_count": 4,
      "metadata": {
        "trusted": true
      },
      "outputs": [
        {
          "name": "stdout",
          "output_type": "stream",
          "text": [
            "\n",
            "Our results:\n",
            "\n",
            "  TAS: 129.99852349653085\n",
            "  Headings: [199.67059374146783, 287.792125444477, 11.713025864830456]\n",
            "  Wind: (20.633444022956596, 314.7584466666683)\n"
          ]
        }
      ],
      "source": [
        "tas, w, tas1, tas2, tas3 = calculate(data)\n",
        "print(\"\\nOur results:\\n\")\n",
        "print(f\"  TAS: {tas}\")\n",
        "print(f\"  Headings: {[theta for rho, theta in [toCompass(tas1), toCompass(tas2), toCompass(tas3)]]}\")\n",
        "# Wind is stated by where it is coming *from*\n",
        "print(f\"  Wind: {toCompass(-w)}\")"
      ]
    },
    {
      "cell_type": "markdown",
      "metadata": {},
      "source": [
        "## References\n",
        "- [Using GPS to accurately establish True Airspeed (TAS)](https://www.kilohotel.com/rv8/rvlinks/doug_gray/TAS_FNL4.pdf), Doug Gray, 1998\n",
        "- [Flight Testing: Finding TAS from GPS Data](https://www.kitplanes.com/flight-testing-finding-tas-from-gps-data/), Kevin Horton, 2009"
      ]
    }
  ],
  "metadata": {
    "kernelspec": {
      "display_name": "Python 3",
      "language": "python",
      "name": "python3"
    },
    "language_info": {
      "codemirror_mode": {
        "name": "ipython",
        "version": 3
      },
      "file_extension": ".py",
      "mimetype": "text/x-python",
      "name": "python",
      "nbconvert_exporter": "python",
      "pygments_lexer": "ipython3",
      "version": "3.11.7"
    }
  },
  "nbformat": 4,
  "nbformat_minor": 4
}
