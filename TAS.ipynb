{
  "cells": [
    {
      "cell_type": "markdown",
      "metadata": {},
      "source": [
        "# Using GPS to measure True Air Velocity for calibrating airspeed and heading\n",
        "\n",
        "In 1998 Doug Gray wrote [a short paper](https://www.kilohotel.com/rv8/rvlinks/doug_gray/TAS_FNL4.pdf) describing a method for finding true air velocity (airspeed and heading) from GPS velocity (groundspeed and ground track). The test flight is simple: record ground velocity while straight and level at the same airspeed and altitude, for three directions (ideally, 90–120° apart).\n",
        "\n",
        "Although his spreadsheet formulas work, it's a big jump from the diagram to the formulas. What follows is a re-derived explanation, and Python code you can use to run calculations for yourself. There is also [a spreadsheet](https://docs.google.com/spreadsheets/d/1_gO5Yt-bQr3e1e3rRNqG1UHT8yLdF9CCd2a2QoJ2SFY/edit?gid=712118661#gid=712118661) which you can duplicate for your own use.\n",
        "\n",
        "## Derivation\n",
        "![Diagram](Diagram.svg)\n",
        "\n",
        "Begin by recording the ground velocity (speed and track) for three different compass headings (e.g. from your GPS). Fly at the same airspeed and altitude. 120° apart is good, but not required. Although not necessary, it's also prudent to record the headings, pressure altitude, outside air temperature, and wind forecast. Call these three ground velocities $g_1, g_2, $ and $g_3$.\n",
        "\n",
        "When these ground vectors are placed head-to-head at point $D$, a circle can be defined by the tails of these vectors ($A, B, C$). The air velocity $a_1$ is the familiar wind triangle, i.e.\n",
        "$$a_1=g_1-w$$\n",
        "And similarly for $a_2$ and $a_3$. TAS is the magnitude of any and all of these vectors (you did fly the same airspeed didn't you?), and it is also the radius of the circle. If we can find the center of the circle, we can calculate all the interesting variables.\n",
        "\n",
        "We can find the center of the circle with a few key identities. $p_1$ and $p_2$ are chords of the circle, so their perpendicular bisectors $q_1$ and $q_2$ intersect at the center of the circle. The perpendicular slope is the negative inverse of the slope:\n",
        "$$m'=-1/m$$\n",
        "The intersection of two lines in point-slope form is:\n",
        "$$\\left(\\frac{b_2-b_1}{m_1-m_2}, m_1\\frac{b_2-b_1}{m_1-m_2} + b_1\\right)$$\n",
        "\n",
        "The y-intercept can be found from the slope of $q$ and midpoint of $p$. If we declare point $A=(0,0)$, the equations are quite neat.\n",
        "\n",
        "$$\n",
        "\\begin{align*}\n",
        "p_1 &= g_1-g_2 &\n",
        "p_2 &= g_1-g_3 \\\\\n",
        "m_{q_1} &= -x_{p_1}/y_{p_1} &\n",
        "m_{q_2} &= -x_{p_2}/y_{p_2} \\\\\n",
        "b_{q_1} &= \\frac{y_{p_1}-m_{q_1}x_{p_1}}{2} &\n",
        "b_{q_2} &= \\frac{y_{p_2}-m_{q_2}x_{p_2}}{2}\n",
        "\\end{align*}\n",
        "$$\n",
        "And now we can calculate the vectors of interest:\n",
        "$$\n",
        "\\begin{align*}\n",
        "a_1 &= \\left(\\frac{b_{q_2}-b_{q_1}}{m_{q_1}-m_{q_2}}, \n",
        " m_{q_1} \\frac{b_{q_2}-b_{q_1}}{m_{q_1}-m_{q_2}} + b_{q_1}\\right) \\\\\n",
        "w &= g_1-a_1 \\\\\n",
        "a_2 &= g_2-w \\\\\n",
        "a_3 &= g_3-w \n",
        "\\end{align*}\n",
        "$$\n",
        "\n",
        "## Code\n",
        "If you [open this as an interactive binder on mybinder.org](https://mybinder.org/v2/gh/fugalh/TAS/HEAD?labpath=TAS.ipynb), you can fill `data` with your own data points and execute the code to get your results."
      ]
    },
    {
      "cell_type": "code",
      "execution_count": 1,
      "metadata": {
        "trusted": true
      },
      "outputs": [],
      "source": [
        "# flight test data (groundspeed, ground track in degrees)\n",
        "data = [\n",
        "        (140, 192),\n",
        "        (112, 283),\n",
        "        (120,  20),\n",
        "]"
      ]
    },
    {
      "cell_type": "code",
      "execution_count": 2,
      "metadata": {
        "trusted": true
      },
      "outputs": [],
      "source": [
        "# preamble\n",
        "import numpy as np\n",
        "\n",
        "def cartesian(rho, theta):\n",
        "    x = rho * np.cos(theta)\n",
        "    y = rho * np.sin(theta)\n",
        "    return x, y\n",
        "\n",
        "def polar(v):\n",
        "    x, y = v\n",
        "    rho = np.hypot(x, y)\n",
        "    theta = np.arctan2(y, x)\n",
        "    return rho, theta\n",
        "    \n",
        "def fromCompass(speed, track):\n",
        "    theta = np.radians(90 - track)\n",
        "    return cartesian(speed, theta)\n",
        "\n",
        "def toCompass(v):\n",
        "    speed, theta = polar(v)\n",
        "    track = (90 - np.degrees(theta)) % 360\n",
        "    return speed, track\n",
        "\n",
        "def mag(v):\n",
        "    return np.sqrt(v[0]**2 + v[1]**2)\n",
        "\n",
        "# The interesting bit\n",
        "def calculate(data):\n",
        "        g1, g2, g3 = (fromCompass(speed, track) for speed, track in data)\n",
        "        \n",
        "        # Chords\n",
        "        p1 = np.subtract(g1, g2)\n",
        "        p2 = np.subtract(g1, g3)\n",
        "        \n",
        "        # Bisectors\n",
        "        mq1 = -p1[0]/p1[1]\n",
        "        mq2 = -p2[0]/p2[1]\n",
        "        bq1 = (p1[1] - mq1 * p1[0]) / 2\n",
        "        bq2 = (p2[1] - mq2 * p2[0]) / 2\n",
        "        \n",
        "        # Circle center\n",
        "        xO = (bq2-bq1)/(mq1-mq2)\n",
        "        yO = mq1 * xO + bq1\n",
        "\n",
        "        # Results\n",
        "        a1 = [xO, yO]\n",
        "        w = np.subtract(g1, a1)\n",
        "        a2 = np.subtract(g2, w)\n",
        "        a3 = np.subtract(g3, w)\n",
        "        tas = mag(a1)\n",
        "        headings = [toCompass(v)[1] for v in [a1, a2, a3]]\n",
        "        \n",
        "        return tas, w, headings"
      ]
    },
    {
      "cell_type": "code",
      "execution_count": 3,
      "metadata": {
        "tags": [
          "hide"
        ],
        "trusted": true
      },
      "outputs": [
        {
          "data": {
            "text/markdown": [
              "Gray's results:\n",
              "- TAS: 130\n",
              "- Headings:\n",
              "  - 200°\n",
              "  - 287.8°\n",
              "  - 11.7°\n",
              "- Wind: 314.8° at 20.6\n",
              "   \n",
              "Our results:\n",
              "- TAS: 130\n",
              "- Headings:\n",
              "  - 199.7°\n",
              "  - 287.8°\n",
              "  - 11.7°\n",
              "- Wind: 314.8° at 20.6"
            ],
            "text/plain": [
              "<IPython.core.display.Markdown object>"
            ]
          },
          "execution_count": 3,
          "metadata": {},
          "output_type": "execute_result"
        }
      ],
      "source": [
        "# print results\n",
        "tas, w, headings = calculate(data)\n",
        "windSpeed, windFrom = toCompass(-w)\n",
        "\n",
        "from IPython.display import Markdown\n",
        "Markdown(f\"\"\"Gray's results:\n",
        "- TAS: 130\n",
        "- Headings:\n",
        "  - 200°\n",
        "  - 287.8°\n",
        "  - 11.7°\n",
        "- Wind: 314.8° at 20.6\n",
        "   \n",
        "Our results:\n",
        "- TAS: {tas:.0f}\n",
        "- Headings:\n",
        "  - {headings[0]:.1f}°\n",
        "  - {headings[1]:.1f}°\n",
        "  - {headings[2]:.1f}°\n",
        "- Wind: {windFrom:.1f}° at {windSpeed:.1f}\"\"\")"
      ]
    },
    {
      "cell_type": "markdown",
      "metadata": {},
      "source": [
        "## Appendix\n",
        "Compass angles increase clockwise, but in cartesian coordinates they usually go counter-clockwise. North is 0° on the compass, but 0° in cartesian coordinates is usually along the positive x axis. For this reason we convert from compass to cartesian angles as $\\phi'=90-\\phi$, just so that it's easier to reason about values when debugging.\n",
        "\n",
        "Conversion from a polar vector $v$ to cartesian coordinates $(x,y)$:\n",
        "$$\n",
        "\\begin{align*}\n",
        "\\rho &= |v| \\\\\n",
        "\\theta &= \\angle v \\\\\n",
        "(x, y) &= (\\rho\\sin(\\theta), \\rho\\cos(\\theta))\n",
        "\\end{align*}\n",
        "$$\n",
        "\n",
        "And from cartesian to polar (when programming, use `atan2` to automatically get the right quadrant from $\\arctan$):\n",
        "$$\n",
        "(\\rho, \\theta) = (\\sqrt{x^2 + y^2}, \\arctan(y/x))\n",
        "$$\n",
        "\n",
        "And you may need to remember radians and degrees:\n",
        "$$\n",
        "\\begin{align*}\n",
        "\\textrm{radians}&=\\textrm{degrees}\\frac{\\pi}{180} &\n",
        "\\textrm{degrees}&=\\textrm{radians}\\frac{180}{\\pi}\n",
        "\\end{align*}\n",
        "$$\n",
        "\n",
        "And of course don't forget that true airspeed is not calibrated airspeed is not indicated airspeed. But you knew that, that's why you were doing this flight test in the first place…\n",
        "\n",
        "## References\n",
        "- [Using GPS to accurately establish True Airspeed (TAS)](https://www.kilohotel.com/rv8/rvlinks/doug_gray/TAS_FNL4.pdf), Doug Gray, 1998\n",
        "- [Flight Testing: Finding TAS from GPS Data](https://www.kitplanes.com/flight-testing-finding-tas-from-gps-data/), Kevin Horton, 2009"
      ]
    }
  ],
  "metadata": {
    "kernelspec": {
      "display_name": "Python 3",
      "language": "python",
      "name": "python3"
    },
    "language_info": {
      "codemirror_mode": {
        "name": "ipython",
        "version": 3
      },
      "file_extension": ".py",
      "mimetype": "text/x-python",
      "name": "python",
      "nbconvert_exporter": "python",
      "pygments_lexer": "ipython3",
      "version": "3.11.7"
    }
  },
  "nbformat": 4,
  "nbformat_minor": 4
}
