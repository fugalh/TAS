{
  "cells": [
    {
      "cell_type": "markdown",
      "metadata": {},
      "source": [
        "[Using GPS to accurately establish True Airspeed (TAS)](https://www.kilohotel.com/rv8/rvlinks/doug_gray/TAS_FNL4.pdf), Doug Gray, 1998"
      ]
    },
    {
      "cell_type": "code",
      "execution_count": null,
      "metadata": {
        "trusted": true
      },
      "outputs": [],
      "source": [
        "# preamble\n",
        "import numpy as np\n",
        "import numpy.linalg as la\n",
        "\n",
        "def cartesian(rho, theta):\n",
        "    x = rho * np.cos(theta)\n",
        "    y = rho * np.sin(theta)\n",
        "    return x, y\n",
        "\n",
        "def polar(v):\n",
        "    x, y = v\n",
        "    rho = np.hypot(x, y)\n",
        "    theta = np.arctan2(y, x)\n",
        "    return rho, theta\n",
        "    \n",
        "def fromCompass(speed, track):\n",
        "    theta = np.radians(90 - track)\n",
        "    return cartesian(speed, theta)\n",
        "\n",
        "def toCompass(v):\n",
        "    speed, theta = polar(v)\n",
        "    track = (90 - np.degrees(theta)) % 360\n",
        "    return speed, track\n",
        "\n",
        "def mag(v):\n",
        "    return np.sqrt(v.dot(v))\n",
        "    \n",
        "def angleBetween(u, v):\n",
        "    return np.arccos(np.dot(u, v) / (mag(u) * mag(v)))\n",
        "\n",
        "def angle(v):\n",
        "    x, y = v\n",
        "    return np.arctan2(y, x)"
      ]
    },
    {
      "cell_type": "code",
      "execution_count": null,
      "metadata": {
        "trusted": true
      },
      "outputs": [],
      "source": [
        "# flight test data\n",
        "gs1 = fromCompass(140, 192)\n",
        "gs2 = fromCompass(112, 283)\n",
        "gs3 = fromCompass(120, 20)"
      ]
    },
    {
      "cell_type": "code",
      "execution_count": null,
      "metadata": {
        "trusted": true
      },
      "outputs": [],
      "source": [
        "# Calculation\n",
        "# Points a, b, c are the tails of gs1, gs2, gs3 respectively\n",
        "ab = np.subtract(gs1, gs2)\n",
        "ac = np.subtract(gs1, gs3)\n",
        "bc = np.subtract(gs2, gs3)\n",
        "abc = angleBetween(ab, bc)\n",
        "tas = (mag(ac) / 2) / np.sin(abc)\n",
        "p = cartesian(tas * np.cos(abc), angle(ac) + np.radians(90))\n",
        "tas1 = np.subtract(np.divide(ac, 2), p)\n",
        "w = np.subtract(gs1, tas1)\n",
        "tas2 = np.subtract(gs2, w)\n",
        "tas3 = np.subtract(gs3, w)"
      ]
    },
    {
      "cell_type": "markdown",
      "metadata": {},
      "source": [
        "Doug's results:\n",
        "- TAS: 130\n",
        "- Headings: 200°, 287.8°, 11.7°\n",
        "- Wind: (20.6, 314.8°)\n"
      ]
    },
    {
      "cell_type": "code",
      "execution_count": null,
      "metadata": {
        "trusted": true
      },
      "outputs": [],
      "source": [
        "print(\"Our results:\")\n",
        "print(f\" TAS: {tas}\")\n",
        "print(f\" Headings: {[theta for rho, theta in [toCompass(tas1), toCompass(tas2), toCompass(tas3)]]}\")\n",
        "print(f\" Wind: {toCompass(-w)}\")"
      ]
    }
  ],
  "metadata": {
    "kernelspec": {
      "display_name": "Python 3",
      "language": "python",
      "name": "python3"
    },
    "language_info": {
      "codemirror_mode": {
        "name": "ipython",
        "version": 3
      },
      "file_extension": ".py",
      "mimetype": "text/x-python",
      "name": "python",
      "nbconvert_exporter": "python",
      "pygments_lexer": "ipython3",
      "version": "3.11.7"
    }
  },
  "nbformat": 4,
  "nbformat_minor": 4
}
