{
  "metadata": {
    "kernelspec": {
      "name": "python",
      "display_name": "Python (Pyodide)",
      "language": "python"
    },
    "language_info": {
      "codemirror_mode": {
        "name": "python",
        "version": 3
      },
      "file_extension": ".py",
      "mimetype": "text/x-python",
      "name": "python",
      "nbconvert_exporter": "python",
      "pygments_lexer": "ipython3",
      "version": "3.8"
    }
  },
  "nbformat_minor": 4,
  "nbformat": 4,
  "cells": [
    {
      "cell_type": "markdown",
      "source": "\"Using GPS to accurately establish True Airspeed (TAS)\", Doug Gray, 1998",
      "metadata": {}
    },
    {
      "cell_type": "code",
      "source": "# preamble\nimport numpy as np\nimport numpy.linalg as la\n\ndef cartesian(rho, theta):\n    x = rho * np.cos(theta)\n    y = rho * np.sin(theta)\n    return x, y\n\ndef polar(v):\n    x, y = v\n    rho = np.hypot(x, y)\n    theta = np.arctan2(y, x)\n    return rho, theta\n    \ndef fromCompass(speed, track):\n    theta = np.radians(90 - track)\n    return cartesian(speed, theta)\n\ndef toCompass(v):\n    speed, theta = polar(v)\n    track = (90 - np.degrees(theta)) % 360\n    return speed, track\n\ndef mag(v):\n    return np.sqrt(v.dot(v))\n    \ndef angleBetween(u, v):\n    return np.arccos(np.dot(u, v) / (mag(u) * mag(v)))\n\ndef angle(v):\n    x, y = v\n    return np.arctan2(y, x)",
      "metadata": {
        "trusted": true
      },
      "outputs": [],
      "execution_count": 219
    },
    {
      "cell_type": "code",
      "source": "# flight test data\ngs1 = fromCompass(140, 192)\ngs2 = fromCompass(112, 283)\ngs3 = fromCompass(120, 20)",
      "metadata": {
        "trusted": true
      },
      "outputs": [],
      "execution_count": 255
    },
    {
      "cell_type": "code",
      "source": "# Calculation\n# Points a, b, c are the tails of gs1, gs2, gs3 respectively\nab = np.subtract(gs1, gs2)\nac = np.subtract(gs1, gs3)\nbc = np.subtract(gs2, gs3)\nabc = angleBetween(ab, bc)\ntas = (mag(ac) / 2) / np.sin(abc)\np = cartesian(tas * np.cos(abc), angle(ac) + np.radians(90))\ntas1 = np.subtract(np.divide(ac, 2), p)\nw = np.subtract(gs1, tas1)\ntas2 = np.subtract(gs2, w)\ntas3 = np.subtract(gs3, w)",
      "metadata": {
        "trusted": true
      },
      "outputs": [],
      "execution_count": 252
    },
    {
      "cell_type": "markdown",
      "source": "Doug's results:\n- TAS: 130\n- Headings: 200°, 287.8°, 11.7°\n- Wind: (20.6, 314.8°)\n",
      "metadata": {}
    },
    {
      "cell_type": "code",
      "source": "print(\"Our results:\")\nprint(f\" TAS: {tas}\")\nprint(f\" Headings: {[theta for rho, theta in [toCompass(tas1), toCompass(tas2), toCompass(tas3)]]}\")\nprint(f\" Wind: {toCompass(-w)}\")",
      "metadata": {
        "trusted": true
      },
      "outputs": [
        {
          "name": "stdout",
          "text": "Our results:\n TAS: 129.99852349653085\n Headings: [199.67059374146783, 287.792125444477, 11.713025864830456]\n Wind: (20.633444022956596, 314.7584466666683)\n",
          "output_type": "stream"
        }
      ],
      "execution_count": 256
    }
  ]
}